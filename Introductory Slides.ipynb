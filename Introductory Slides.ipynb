{
 "cells": [
  {
   "cell_type": "markdown",
   "id": "fb789dfb",
   "metadata": {
    "slideshow": {
     "slide_type": "slide"
    }
   },
   "source": [
    "# Tutorial on How to Programm Quantum Computers\n",
    "\n",
    "Author: Tobias Stollenwerk, Institute for Quantum Computing Analytics (PGI-12), FZ Jülich\n",
    "\n"
   ]
  },
  {
   "cell_type": "code",
   "execution_count": 1,
   "id": "b0602cae",
   "metadata": {
    "slideshow": {
     "slide_type": "skip"
    }
   },
   "outputs": [],
   "source": [
    "import qiskit\n",
    "import numpy as np\n",
    "from qiskit import QuantumCircuit\n",
    "from qiskit_aer import StatevectorSimulator\n",
    "from qiskit.visualization import array_to_latex"
   ]
  },
  {
   "cell_type": "markdown",
   "id": "90df76a5",
   "metadata": {
    "slideshow": {
     "slide_type": "skip"
    }
   },
   "source": [
    "Load latex packages and define latex macros. See [here](https://docs.mathjax.org/en/latest/input/tex/extensions.html#loading-tex-extensions)\n",
    "\n",
    "$$\n",
    "\\newcommand{\\bra}[1]{\\langle #1 |}\n",
    "\\newcommand{\\ket}[1]{| #1 \\rangle}\n",
    "\\newcommand{\\braket}[2]{\\langle #1 | #2 \\rangle}\n",
    "\\newcommand{\\ee}{\\mathrm{e}}\n",
    "\\newcommand{\\ii}{\\mathrm{i}}\n",
    "$$"
   ]
  },
  {
   "cell_type": "markdown",
   "id": "71912c21",
   "metadata": {
    "slideshow": {
     "slide_type": "slide"
    }
   },
   "source": [
    "## What we will learn\n",
    "\n",
    " - Theory\n",
    "   - What is quantum information\n",
    "   - How to manipulate quantum information\n",
    "   - How to build quantum algorithims\n",
    " \n",
    " - Hands on\n",
    "   - Construct quantum circuits\n",
    "   - Use exact simulator to inspect result of gates on quantum states\n",
    "   - Simulate experiment on real quantum computer and evaluate results\n",
    "   - Build our first algorithm\n",
    "\n",
    " "
   ]
  },
  {
   "cell_type": "markdown",
   "id": "07d898d5",
   "metadata": {
    "slideshow": {
     "slide_type": "slide"
    }
   },
   "source": [
    "## Quantum Information - The Qubit\n",
    "\n",
    "Classical information is stored in bits that can be $0$ or $1$\n",
    "\n",
    "$$\n",
    "\\text{bit state} \\in \\{0, 1\\}\n",
    "$$\n",
    "\n",
    "Quantum information is stored in quantum bits (qubits) that are vectors in a 2-dimensional Hilbert space\n",
    "$$\n",
    "\\text{qubit state:} \\qquad  \\ket{\\psi} = a \\ket{0} + b \\ket{1} \\in \\mathbb{C}^2\n",
    "$$\n",
    "with $a,b\\in\\mathbb{C}$ and $|a|^2 + |b|^2 = 1$."
   ]
  },
  {
   "cell_type": "markdown",
   "id": "21b630d0",
   "metadata": {
    "slideshow": {
     "slide_type": "subslide"
    }
   },
   "source": [
    "## Qubit State\n",
    "\n",
    " - Representation as vector in $\\mathbb{C}^2$: $\\ket{\\psi} \\sim \n",
    " \\begin{pmatrix}\n",
    "a\\\\\n",
    "b \n",
    "\\end{pmatrix}$\n",
    "\n",
    "- Representation as point on the *Bloch sphere*\n",
    "\n",
    "  ![image](./images/bloch.png)\n",
    "  \n",
    "  $\\ket{\\psi} = \\sin(\\theta/2) \\ket{0} + \\ee^{\\ii \\phi} \\cos(\\theta/2) \\ket{1}$, where $0\\leq\\theta\\leq\\pi, 0\\leq\\phi\\leq 2\\pi$ "
   ]
  },
  {
   "cell_type": "markdown",
   "id": "15dfeef0",
   "metadata": {
    "slideshow": {
     "slide_type": "subslide"
    }
   },
   "source": [
    "## Two-Qubit State\n",
    "\n",
    "- Consider two distinct qubit states \n",
    "$\\ket{\\psi_1} = a \\ket{0} + b \\ket{1}$\n",
    "and\n",
    "$\\ket{\\psi_2} = c \\ket{0} + d \\ket{1}$\n",
    "\n",
    "- Combined state (*product state*) is described by tensor product\n",
    "\n",
    "$$\n",
    "\\ket{\\psi} = \\ket{\\psi_1} \\otimes \\ket{\\psi_2} \n",
    "= ac \\ket{0} \\otimes \\ket{0} \n",
    "+ ad \\ket{0} \\otimes \\ket{1} \n",
    "+ bc \\ket{1} \\otimes \\ket{1} \n",
    "+ bd \\ket{1} \\otimes \\ket{1}\\\\\n",
    "= ac \\ket{00} \n",
    "+ ad \\ket{01} \n",
    "+ bc \\ket{11}\n",
    "+ bd \\ket{11}\n",
    "$$\n",
    "\n",
    " - In general\n",
    " \n",
    " $$\n",
    "\\ket{\\psi} =\n",
    "c_{00} \\ket{00} \n",
    "+ c_{01} \\ket{01} \n",
    "+ c_{10} \\ket{10}\n",
    "+ c_{11} \\ket{11}\n",
    "$$\n",
    "\n",
    "- Written in matrix representation\n",
    "\n",
    "$$ \n",
    "\\ket{\\psi} \\sim \n",
    "\\begin{pmatrix}\n",
    "c_{00} \\\\\n",
    "c_{01} \\\\ \n",
    "c_{10} \\\\ \n",
    "c_{11}\n",
    "\\end{pmatrix}\n",
    "$$"
   ]
  },
  {
   "cell_type": "markdown",
   "id": "a5e06cfa",
   "metadata": {
    "slideshow": {
     "slide_type": "subslide"
    }
   },
   "source": [
    "## $N$-Qubit State\n",
    "\n",
    " - In general\n",
    " \n",
    " $$\n",
    "\\ket{\\psi} = \\sum_{b \\in \\{0, 1\\}^N} c_{b} \\ket{b}\n",
    "$$\n",
    "\n",
    "- Written in matrix representation\n",
    "\n",
    "$$ \n",
    "\\ket{\\psi} \\sim \n",
    "\\begin{pmatrix}\n",
    "c_{0\\dots0} \\\\\n",
    "c_{0\\dots1} \\\\\n",
    "\\vdots \\\\\n",
    "c_{1\\dots0} \\\\ \n",
    "c_{1\\dots1}\n",
    "\\end{pmatrix}\n",
    "\\in \\mathbb{C}^{2^N}\n",
    "$$"
   ]
  },
  {
   "cell_type": "markdown",
   "id": "202e37a1",
   "metadata": {
    "slideshow": {
     "slide_type": "slide"
    }
   },
   "source": [
    "## How to Manipulate Quantum States - Unitary Transformations\n",
    "\n",
    "- Transforming a $n$-qubit state $\\ket{\\psi}$ with the linear transformation $U$\n",
    "$$\n",
    "\\ket{\\psi'} = U \\ket{\\psi}\n",
    "$$\n",
    "- Due to normalization $1 = \\braket{\\psi}{\\psi} = \\bra{\\psi} U^\\dagger U \\ket{\\psi}$, we have\n",
    "\n",
    "$$\n",
    "U^\\dagger U = \\mathbb{1}\n",
    "$$\n",
    "\n",
    "i.e. $U$ is unitary\n",
    "\n",
    "\n"
   ]
  },
  {
   "cell_type": "markdown",
   "id": "c3541e68",
   "metadata": {
    "slideshow": {
     "slide_type": "subslide"
    }
   },
   "source": [
    "## Single-Qubit Gate\n",
    "\n",
    "- General 2x2 matrix\n",
    "$$\n",
    "U=\n",
    "\\begin{pmatrix}\n",
    "u_{00} &\n",
    "u_{01} \\\\\n",
    "u_{10} &\n",
    "u_{00} \n",
    "\\end{pmatrix}\n",
    "$$\n",
    "- Unitary 2x2 matrix\n",
    "$$\n",
    "U=\n",
    "R_Z(\\alpha)\n",
    "R_Y(\\theta)\n",
    "R_Z(\\beta)\n",
    "=\n",
    "\\begin{pmatrix}\n",
    "\\ee^{\\ii \\alpha/2} &\n",
    "0 \\\\\n",
    "0 &\n",
    "\\ee^{-\\ii \\alpha/2}\n",
    "\\end{pmatrix}\n",
    "\\begin{pmatrix}\n",
    "\\cos^{\\theta/2} &\n",
    "\\sin^{\\theta/2} \\\\\n",
    "-\\sin^{\\theta/2} &\n",
    "\\cos^{\\theta/2}\n",
    "\\end{pmatrix}\n",
    "\\begin{pmatrix}\n",
    "\\ee^{\\ii \\beta/2} &\n",
    "0 \\\\\n",
    "0 &\n",
    "\\ee^{-\\ii \\beta/2}\n",
    "\\end{pmatrix}\n",
    "$$"
   ]
  },
  {
   "cell_type": "markdown",
   "id": "e04799f4",
   "metadata": {
    "slideshow": {
     "slide_type": "subslide"
    }
   },
   "source": [
    "## Important single qubit gates\n",
    "\n",
    "- Pauli operators\n",
    "$$\n",
    "X=\n",
    "\\begin{pmatrix}\n",
    "0 &\n",
    "1 \\\\\n",
    "1 &\n",
    "0\n",
    "\\end{pmatrix}\n",
    "\\qquad\n",
    "Y=\n",
    "\\begin{pmatrix}\n",
    "0 &\n",
    "-\\ii \\\\\n",
    "\\ii &\n",
    "0\n",
    "\\end{pmatrix}\n",
    "\\qquad\n",
    "Z=\n",
    "\\begin{pmatrix}\n",
    "1 &\n",
    "0 \\\\\n",
    "0 &\n",
    "-1\n",
    "\\end{pmatrix}\n",
    "$$\n",
    "- Hadamard\n",
    "$$\n",
    "H=\\frac{1}{\\sqrt{2}}\n",
    "\\begin{pmatrix}\n",
    "1 &\n",
    "1 \\\\\n",
    "-1 &\n",
    "1\n",
    "\\end{pmatrix}\n",
    "$$\n",
    "\n",
    "- Phase- and T-gate\n",
    "$$\n",
    "S=\n",
    "\\begin{pmatrix}\n",
    "1 &\n",
    "0 \\\\\n",
    "-\\ii &\n",
    "0\n",
    "\\end{pmatrix}\n",
    "\\qquad\n",
    "T=\n",
    "\\begin{pmatrix}\n",
    "1 &\n",
    "0 \\\\\n",
    "0 &\n",
    "\\ee^{2 \\pi \\ii/8} \n",
    "\\end{pmatrix}\n",
    "$$\n",
    "\n"
   ]
  },
  {
   "cell_type": "markdown",
   "id": "d6ab6d16",
   "metadata": {
    "slideshow": {
     "slide_type": "subslide"
    }
   },
   "source": [
    "## $N$-Qubit Gates\n",
    "\n",
    " - Unitary matrix of size $2^N \\times 2^N$\n",
    " - Example: Two qubit-gate\n",
    " \n",
    "$$\n",
    " CX=\n",
    "\\begin{pmatrix}\n",
    "1 & 0 & 0 & 0 \\\\\n",
    "0 & 1 & 0 & 0 \\\\\n",
    "0 & 0 & 0 & 1 \\\\\n",
    "0 & 0 & 1 & 0\n",
    "\\end{pmatrix}\n",
    "$$\n",
    "\n"
   ]
  },
  {
   "cell_type": "markdown",
   "id": "d876cbcf",
   "metadata": {
    "slideshow": {
     "slide_type": "subslide"
    }
   },
   "source": [
    "## Quantum Circuits\n",
    "\n",
    "- Multiple choices for basis of $U$\n",
    "- Example: $\\{H, S, T, CX\\}$\n",
    "- Quantum Circuit: Sequential and parallell application of elementary (basis) gates onto an initial state\n"
   ]
  },
  {
   "cell_type": "markdown",
   "id": "f7a5241b",
   "metadata": {
    "slideshow": {
     "slide_type": "slide"
    }
   },
   "source": [
    "## Quantum Measurements\n",
    "\n",
    "- For our purposes, the quantum measurement is a projection onto the some basis states\n",
    "- Usually we choose the so called compuational basis $\\ket{b_0 b_1 \\dots b_N}$ where $b\\in \\{0, 1\\}$.\n",
    "- The probability to measure $\\ket{b_0 b_1 \\dots b_N}$ given a general $N$-qubit state\n",
    "$$\n",
    "\\ket{\\psi} = \\sum_{b \\in \\text{all bitstrings of length } N} c_b \\ket{b}\n",
    "$$\n",
    "is $|c_b|^2$.\n",
    "- For example the probability to measure $0$ in the first and $1$ in the second qubit of the composite state\n",
    "$$\n",
    "\\ket{\\psi} = \\frac{1}{\\sqrt{2}} (\\ket{00} + \\ket{11})\n",
    "$$\n",
    "is $|\\frac{1}{\\sqrt{2}}|^2 = 1/2$\n"
   ]
  },
  {
   "cell_type": "markdown",
   "id": "7b58f2f3",
   "metadata": {
    "slideshow": {
     "slide_type": "slide"
    }
   },
   "source": [
    "## Our first Algorithm: Quantum Teleportation\n",
    "- We start with Alice (2 qubits, 2 bits) and Bob (1 qubit, 1 bit)\n",
    "- The first qubit of Alice in is in an unknow quantum state $\\ket{\\psi}$, she whats to teleport to Bob\n",
    "\n",
    "![image](images/teleportation01.png)"
   ]
  },
  {
   "cell_type": "markdown",
   "id": "97541bd4",
   "metadata": {
    "slideshow": {
     "slide_type": "subslide"
    }
   },
   "source": [
    "## Quantum Teleportation - Shared Entangled State\n",
    "\n",
    "Alice and Bob share an entangled state (Bell state) $\\frac{1}{\\sqrt{2}} (\\ket{00} + \\ket{11})$\n",
    "\n",
    "![image](images/teleportation02.png)"
   ]
  },
  {
   "cell_type": "markdown",
   "id": "45238c79",
   "metadata": {
    "slideshow": {
     "slide_type": "subslide"
    }
   },
   "source": [
    "## Quantum Teleportation - Entangling an Measuring\n",
    "\n",
    " - Alice entangles both of her qubit (and as a result also Bob's qubit)\n",
    " - Then she measures both of her qubits and sends the result (0 or 1) via a classical channel to Bob\n",
    "\n",
    " \n",
    "![image](images/teleportation03.png)"
   ]
  },
  {
   "cell_type": "markdown",
   "id": "7a75df8e",
   "metadata": {
    "slideshow": {
     "slide_type": "subslide"
    }
   },
   "source": [
    "## Quantum Teleportation - Sending the Measurement Outcome and Bob preparing the state\n",
    "\n",
    "Depending on the measurement results of Alice, Bob applies X (only if Alices measured 1 in the 2nd qubit) and then Z (only if Alice measured 1 in the 1st qubit).\n",
    "![image](images/teleportation04.png)"
   ]
  }
 ],
 "metadata": {
  "celltoolbar": "Slideshow",
  "kernelspec": {
   "display_name": "Python 3 (ipykernel)",
   "language": "python",
   "name": "python3"
  },
  "language_info": {
   "codemirror_mode": {
    "name": "ipython",
    "version": 3
   },
   "file_extension": ".py",
   "mimetype": "text/x-python",
   "name": "python",
   "nbconvert_exporter": "python",
   "pygments_lexer": "ipython3",
   "version": "3.10.11"
  }
 },
 "nbformat": 4,
 "nbformat_minor": 5
}
