{
 "cells": [
  {
   "cell_type": "markdown",
   "id": "df489e3b",
   "metadata": {
    "slideshow": {
     "slide_type": "slide"
    }
   },
   "source": [
    "# Tutorial on How to Programm Quantum Computers\n",
    "\n",
    "Author: Tobias Stollenwerk, Institute for Quantum Computing Analytics (PGI-12), FZ Jülich\n",
    "\n"
   ]
  },
  {
   "cell_type": "markdown",
   "id": "a3c8eb54",
   "metadata": {
    "slideshow": {
     "slide_type": "skip"
    }
   },
   "source": [
    "Load latex packages and define latex macros. See [here](https://docs.mathjax.org/en/latest/input/tex/extensions.html#loading-tex-extensions)\n",
    "\n",
    "$$\n",
    "\\newcommand{\\bra}[1]{\\langle #1 |}\n",
    "\\newcommand{\\ket}[1]{| #1 \\rangle}\n",
    "$$"
   ]
  },
  {
   "cell_type": "markdown",
   "id": "71912c21",
   "metadata": {
    "slideshow": {
     "slide_type": "slide"
    }
   },
   "source": [
    "## What we will learn\n",
    "\n",
    " - Theory\n",
    "   - What is quantum information\n",
    "   - How to manipulate quantum information\n",
    "   - How to build quantum algorithims\n",
    " \n",
    " - Hands on\n",
    "   - Construct quantum circuits\n",
    "   - Use exact simulator to inspect result of gates on quantum states\n",
    "   - Simulate experiment on real quantum computer and evaluate results\n",
    "   - Build our first algorithm\n",
    "\n",
    " "
   ]
  },
  {
   "cell_type": "markdown",
   "id": "07d898d5",
   "metadata": {
    "slideshow": {
     "slide_type": "slide"
    }
   },
   "source": [
    "## Quantum Information\n",
    "\n",
    "Classical information is stored in bits that can be $0$ or $1$\n",
    "\n",
    "$$\n",
    "\\text{bit state} \\in \\{0, 1\\}\n",
    "$$\n",
    "\n",
    "Quantum information is stored in quantum bits (qubits) that are vectors in a 2-dimensional Hilbert space\n",
    "$$\n",
    "\\text{qubit state} = a \\ket{0} + b \\ket{1} \\in \\mathbb{C}^2\n",
    "$$"
   ]
  },
  {
   "cell_type": "code",
   "execution_count": 1,
   "id": "09021125",
   "metadata": {
    "slideshow": {
     "slide_type": "skip"
    }
   },
   "outputs": [],
   "source": [
    "from qiskit import QuantumCircuit\n",
    "from qiskit_aer import StatevectorSimulator"
   ]
  },
  {
   "cell_type": "code",
   "execution_count": 2,
   "id": "253700ad",
   "metadata": {
    "slideshow": {
     "slide_type": "skip"
    }
   },
   "outputs": [
    {
     "data": {
      "text/plain": [
       "<qiskit.circuit.instructionset.InstructionSet at 0x7f1a907db3d0>"
      ]
     },
     "execution_count": 2,
     "metadata": {},
     "output_type": "execute_result"
    }
   ],
   "source": [
    "# Create a Quantum Circuit acting on the 2 qubit register\n",
    "circuit = QuantumCircuit(2)\n",
    "\n",
    "# Add a H gate on qubit 0\n",
    "circuit.h(0)\n",
    "\n",
    "# Add a CX (CNOT) gate on control qubit 0 and target qubit 1\n",
    "circuit.cx(0, 1)"
   ]
  },
  {
   "cell_type": "code",
   "execution_count": 3,
   "id": "2ca852e4",
   "metadata": {
    "slideshow": {
     "slide_type": "skip"
    }
   },
   "outputs": [
    {
     "data": {
      "image/png": "[encoded data removed]",
      "text/plain": [
       "<Figure size 287.294x200.667 with 1 Axes>"
      ]
     },
     "metadata": {},
     "output_type": "display_data"
    }
   ],
   "source": [
    "display(circuit.draw(\"mpl\"))"
   ]
  },
  {
   "cell_type": "code",
   "execution_count": 4,
   "id": "e20217c0",
   "metadata": {
    "slideshow": {
     "slide_type": "skip"
    }
   },
   "outputs": [],
   "source": [
    "def show_circuit_and_statevector(circuit):\n",
    "    display(circuit.draw(\"mpl\"))\n",
    "    # Use exact simulator as backend\n",
    "    simulator = StatevectorSimulator()\n",
    "    job = simulator.run(circuit)\n",
    "    result = job.result()\n",
    "    statevector = result.get_statevector()\n",
    "    print('Output state:')\n",
    "    display(statevector.draw(output='latex'))"
   ]
  },
  {
   "cell_type": "code",
   "execution_count": 5,
   "id": "9a219cf0",
   "metadata": {
    "slideshow": {
     "slide_type": "skip"
    }
   },
   "outputs": [
    {
     "data": {
      "image/png": "[encoded data removed]",
      "text/plain": [
       "<Figure size 287.294x200.667 with 1 Axes>"
      ]
     },
     "metadata": {},
     "output_type": "display_data"
    },
    {
     "name": "stdout",
     "output_type": "stream",
     "text": [
      "Output state:\n"
     ]
    },
    {
     "data": {
      "text/latex": [
       "$$\\frac{\\sqrt{2}}{2} |00\\rangle+\\frac{\\sqrt{2}}{2} |11\\rangle$$"
      ],
      "text/plain": [
       "<IPython.core.display.Latex object>"
      ]
     },
     "metadata": {},
     "output_type": "display_data"
    }
   ],
   "source": [
    "show_circuit_and_statevector(circuit)"
   ]
  },
  {
   "cell_type": "code",
   "execution_count": null,
   "id": "ae3fe093",
   "metadata": {
    "slideshow": {
     "slide_type": "skip"
    }
   },
   "outputs": [],
   "source": []
  }
 ],
 "metadata": {
  "celltoolbar": "Slideshow",
  "kernelspec": {
   "display_name": "Python 3 (ipykernel)",
   "language": "python",
   "name": "python3"
  },
  "language_info": {
   "codemirror_mode": {
    "name": "ipython",
    "version": 3
   },
   "file_extension": ".py",
   "mimetype": "text/x-python",
   "name": "python",
   "nbconvert_exporter": "python",
   "pygments_lexer": "ipython3",
   "version": "3.10.11"
  }
 },
 "nbformat": 4,
 "nbformat_minor": 5
}
