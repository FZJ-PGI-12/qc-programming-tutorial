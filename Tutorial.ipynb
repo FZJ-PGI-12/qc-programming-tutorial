{
 "cells": [
  {
   "cell_type": "markdown",
   "id": "fb789dfb",
   "metadata": {
    "slideshow": {
     "slide_type": "slide"
    }
   },
   "source": [
    "# Tutorial on How to Programm Quantum Computers\n",
    "\n",
    "Author: Tobias Stollenwerk, Institute for Quantum Computing Analytics (PGI-12), FZ Jülich\n",
    "\n"
   ]
  },
  {
   "cell_type": "code",
   "execution_count": 1,
   "id": "b0602cae",
   "metadata": {
    "slideshow": {
     "slide_type": "skip"
    }
   },
   "outputs": [],
   "source": [
    "import qiskit\n",
    "import numpy as np\n",
    "from qiskit import QuantumCircuit, QuantumRegister, ClassicalRegister\n",
    "from qiskit_aer import StatevectorSimulator, QasmSimulator\n",
    "from qiskit.visualization import array_to_latex, plot_histogram"
   ]
  },
  {
   "cell_type": "markdown",
   "id": "b3bd4203",
   "metadata": {},
   "source": [
    "Load latex packages and define latex macros. See [here](https://docs.mathjax.org/en/latest/input/tex/extensions.html#loading-tex-extensions)\n",
    "\n",
    "$$\n",
    "\\newcommand{\\bra}[1]{\\langle #1 |}\n",
    "\\newcommand{\\ket}[1]{| #1 \\rangle}\n",
    "\\newcommand{\\ee}{\\mathrm{e}}\n",
    "\\newcommand{\\ii}{\\mathrm{i}}\n",
    "$$"
   ]
  },
  {
   "cell_type": "markdown",
   "id": "20ca4e3e",
   "metadata": {
    "slideshow": {
     "slide_type": "slide"
    }
   },
   "source": [
    "## Session 1 - Building a quantum circuit"
   ]
  },
  {
   "cell_type": "markdown",
   "id": "e377f220",
   "metadata": {
    "slideshow": {
     "slide_type": "subslide"
    }
   },
   "source": [
    "We start with an empty circuit consisting of a single qubit"
   ]
  },
  {
   "cell_type": "code",
   "execution_count": 2,
   "id": "253700ad",
   "metadata": {
    "slideshow": {
     "slide_type": "-"
    }
   },
   "outputs": [
    {
     "data": {
      "image/png": "[encoded data removed]",
      "text/plain": [
       "<Figure size 143.647x117.056 with 1 Axes>"
      ]
     },
     "metadata": {},
     "output_type": "display_data"
    }
   ],
   "source": [
    "# Create a Quantum Circuit acting on the 1 qubit register\n",
    "circuit = QuantumCircuit(1)\n",
    "# display the circuit\n",
    "display(circuit.draw('mpl'))"
   ]
  },
  {
   "cell_type": "markdown",
   "id": "ceb01032",
   "metadata": {
    "slideshow": {
     "slide_type": "subslide"
    }
   },
   "source": [
    "### Exercise 01\n",
    "\n",
    "Create a circuit with a single Hadamard gate and display it"
   ]
  },
  {
   "cell_type": "code",
   "execution_count": 3,
   "id": "5200b0ad",
   "metadata": {},
   "outputs": [],
   "source": [
    "circuit = QuantumCircuit(1)\n",
    "# ...\n",
    "# fill in you code here\n",
    "# ...\n"
   ]
  },
  {
   "cell_type": "code",
   "execution_count": 4,
   "id": "8b628208",
   "metadata": {},
   "outputs": [],
   "source": [
    "# uncomment the next line to get a hint\n",
    "#%run -i solutions/hint01.py\n",
    "# uncomment the next line to show the solution\n",
    "#%load solutions/exercise01.py"
   ]
  },
  {
   "cell_type": "code",
   "execution_count": 37,
   "id": "0170e8b0",
   "metadata": {
    "slideshow": {
     "slide_type": "fragment"
    }
   },
   "outputs": [],
   "source": [
    "# run this cell to execute the solution\n",
    "%run -i solutions/exercise01.py"
   ]
  },
  {
   "cell_type": "markdown",
   "id": "e710bd50",
   "metadata": {
    "slideshow": {
     "slide_type": "subslide"
    }
   },
   "source": [
    "### Exercise 02\n",
    "\n",
    "Build a quantum circuit which applies a Hadamard gate to the first qubit before applying a CNOT gate"
   ]
  },
  {
   "cell_type": "code",
   "execution_count": 6,
   "id": "f22fc99f",
   "metadata": {},
   "outputs": [],
   "source": [
    "# ...\n",
    "# fill in you code here\n",
    "# ...\n"
   ]
  },
  {
   "cell_type": "code",
   "execution_count": 7,
   "id": "a65a8836",
   "metadata": {},
   "outputs": [],
   "source": [
    "# uncomment the next line to get a hint\n",
    "#%run -i solutions/hint02.py\n",
    "# uncomment the next line to show the solution\n",
    "#%load solutions/exercise02.py"
   ]
  },
  {
   "cell_type": "code",
   "execution_count": 8,
   "id": "537c5a16",
   "metadata": {
    "slideshow": {
     "slide_type": "fragment"
    }
   },
   "outputs": [
    {
     "data": {
      "image/png": "[encoded data removed]",
      "text/plain": [
       "<Figure size 287.294x200.667 with 1 Axes>"
      ]
     },
     "metadata": {},
     "output_type": "display_data"
    }
   ],
   "source": [
    "# run this cell to execute the solution\n",
    "%run -i solutions/exercise02.py"
   ]
  },
  {
   "cell_type": "markdown",
   "id": "99854393",
   "metadata": {
    "slideshow": {
     "slide_type": "subslide"
    }
   },
   "source": [
    "### Exercise 03\n",
    "\n",
    "Take the circuit of exercise 02 and add measurements to the two qubits.\n",
    "\n",
    "Hint: Create two classical bits in addition to the two quantum bits via ```QuantumCircuit(2, 2)```"
   ]
  },
  {
   "cell_type": "code",
   "execution_count": 9,
   "id": "bf2f1af0",
   "metadata": {},
   "outputs": [],
   "source": [
    "# ...\n",
    "# fill in you code here\n",
    "# ...\n"
   ]
  },
  {
   "cell_type": "code",
   "execution_count": 10,
   "id": "bbe243ac",
   "metadata": {},
   "outputs": [],
   "source": [
    "# uncomment the next line to get a hint\n",
    "#%run -i solutions/hint03.py\n",
    "# uncomment the next line to show the solution\n",
    "#%load solutions/exercise03.py"
   ]
  },
  {
   "cell_type": "code",
   "execution_count": 11,
   "id": "977043f5",
   "metadata": {
    "slideshow": {
     "slide_type": "fragment"
    }
   },
   "outputs": [
    {
     "data": {
      "image/png": "[encoded data removed]",
      "text/plain": [
       "<Figure size 454.517x284.278 with 1 Axes>"
      ]
     },
     "metadata": {},
     "output_type": "display_data"
    }
   ],
   "source": [
    "# run this cell to execute the solution\n",
    "%run -i solutions/exercise03.py"
   ]
  },
  {
   "cell_type": "markdown",
   "id": "ee7aa3bf",
   "metadata": {
    "slideshow": {
     "slide_type": "slide"
    }
   },
   "source": [
    "## Session 2 - Using the simulator to calculate the resulting state"
   ]
  },
  {
   "cell_type": "markdown",
   "id": "4417b13d",
   "metadata": {},
   "source": [
    "In order to execute a circuit, i.e. to calculate the resulting state, we use the build-in simulator. This will return a ```result``` object, from which we can extract a ```statevector``` object. \n",
    "\n",
    "We will exclude the mesurements for now and focus on the circuit from exercise 02"
   ]
  },
  {
   "cell_type": "code",
   "execution_count": 12,
   "id": "2063a7ec",
   "metadata": {},
   "outputs": [
    {
     "data": {
      "image/png": "[encoded data removed]",
      "text/plain": [
       "<Figure size 287.294x200.667 with 1 Axes>"
      ]
     },
     "metadata": {},
     "output_type": "display_data"
    }
   ],
   "source": [
    "%run -i solutions/exercise02.py"
   ]
  },
  {
   "cell_type": "code",
   "execution_count": 13,
   "id": "c47848e9",
   "metadata": {},
   "outputs": [
    {
     "name": "stdout",
     "output_type": "stream",
     "text": [
      "Statevector([0.70710678+0.j, 0.        +0.j, 0.        +0.j,\n",
      "             0.70710678+0.j],\n",
      "            dims=(2, 2))\n"
     ]
    }
   ],
   "source": [
    "simulator = StatevectorSimulator()\n",
    "job = simulator.run(circuit)\n",
    "result = job.result()\n",
    "statevector = result.get_statevector()\n",
    "statevector"
   ]
  },
  {
   "cell_type": "markdown",
   "id": "5fc200d6",
   "metadata": {},
   "source": [
    "We can display it a little nicer via the ```draw```command "
   ]
  },
  {
   "cell_type": "code",
   "execution_count": 14,
   "id": "272d16f2",
   "metadata": {},
   "outputs": [
    {
     "data": {
      "text/latex": [
       "$$\\frac{\\sqrt{2}}{2} |00\\rangle+\\frac{\\sqrt{2}}{2} |11\\rangle$$"
      ],
      "text/plain": [
       "<IPython.core.display.Latex object>"
      ]
     },
     "metadata": {},
     "output_type": "display_data"
    }
   ],
   "source": [
    "display(statevector.draw(output='latex'))"
   ]
  },
  {
   "cell_type": "markdown",
   "id": "31ea69fc",
   "metadata": {
    "slideshow": {
     "slide_type": "subslide"
    }
   },
   "source": [
    "### Exercise 04 \n",
    "\n",
    "Create a circuit with one qubit and apply the rotation gate ```rx(angle)``` with different angles (e.g. 0, 0.2, 0.4 .., np.pi) to it. Aferwards display the resulting statevector after each rotation as a point on the Bloch sphere (Hint: execute ```statevector.draw?``` to show the documentation)"
   ]
  },
  {
   "cell_type": "code",
   "execution_count": 15,
   "id": "4aa925ec",
   "metadata": {},
   "outputs": [],
   "source": [
    "# ...\n",
    "# fill in you code here\n",
    "# ..."
   ]
  },
  {
   "cell_type": "code",
   "execution_count": 38,
   "id": "cf8a4820",
   "metadata": {
    "slideshow": {
     "slide_type": "fragment"
    }
   },
   "outputs": [],
   "source": [
    "# run this cell to execute the solution\n",
    "%run -i solutions/exercise04.py"
   ]
  },
  {
   "cell_type": "markdown",
   "id": "6435627b",
   "metadata": {},
   "source": [
    "### Exercise 05\n",
    "\n",
    "On a real quantum computer the state vector is not accessible. Instead we need to use measurements to estimate the amplitutes. The simulation of such measurements can be done with the `QasmSimulator` instead of the above uses `StatevectorSimulator`. \n",
    "\n",
    "Use the the `QasmSimulator` to simulate measurements of the circuit from exercise 03. Investigate how the number of measurements (use the 'shots' argument in the `run` command of the simulator) affects the outcome"
   ]
  },
  {
   "cell_type": "code",
   "execution_count": 17,
   "id": "d9f35c67",
   "metadata": {},
   "outputs": [
    {
     "data": {
      "text/plain": [
       "<qiskit.circuit.instructionset.InstructionSet at 0x7fa460a105e0>"
      ]
     },
     "execution_count": 17,
     "metadata": {},
     "output_type": "execute_result"
    }
   ],
   "source": [
    "circuit = QuantumCircuit(2, 2)\n",
    "# add hadamard gate\n",
    "circuit.h(0)\n",
    "circuit.cnot(0, 1)\n",
    "circuit.measure(0, 0)\n",
    "circuit.measure(1, 1)\n",
    "\n",
    "\n",
    "# ...\n",
    "# fill in you code here\n",
    "# ...\n",
    "\n",
    "#simulator = QasmSimulator()\n",
    "# Hint: Get the measurement outcome (number of times 00, 01, 10 or 11 are measured)\n",
    "# counts = result.get_counts()\n",
    "# Hint: Use the plot_histogram function to plot a histogram of the simulated measurement outcome\n",
    "# plot_histogram(counts)\n"
   ]
  },
  {
   "cell_type": "code",
   "execution_count": 39,
   "id": "1072a61f",
   "metadata": {
    "slideshow": {
     "slide_type": "fragment"
    }
   },
   "outputs": [],
   "source": [
    "# run this cell to execute the solution\n",
    "%run -i solutions/exercise05.py"
   ]
  },
  {
   "cell_type": "markdown",
   "id": "d5d841d7",
   "metadata": {
    "slideshow": {
     "slide_type": "slide"
    }
   },
   "source": [
    "## Session 3 - Quantum Teleportation\n",
    "\n",
    "We want to simulate and investigate quantum teleportation as shown here"
   ]
  },
  {
   "cell_type": "markdown",
   "id": "cee17469",
   "metadata": {},
   "source": [
    "Classical and quantum registers can be given names as follows:"
   ]
  },
  {
   "cell_type": "code",
   "execution_count": 19,
   "id": "42091d1e",
   "metadata": {},
   "outputs": [
    {
     "data": {
      "image/png": "[encoded data removed]",
      "text/plain": [
       "<Figure size 206.147x200.667 with 1 Axes>"
      ]
     },
     "metadata": {},
     "output_type": "display_data"
    }
   ],
   "source": [
    "Bobs_q = QuantumRegister(1, name='bob')\n",
    "Bobs_c = ClassicalRegister(1, name='bob-c')\n",
    "circuit = QuantumCircuit(Bobs_q, Bobs_c)\n",
    "display(circuit.draw(output='mpl'))"
   ]
  },
  {
   "cell_type": "markdown",
   "id": "a56a6285",
   "metadata": {},
   "source": [
    "### Exercise 06:\n",
    "\n",
    "Add a quantum register with on qubit and a classical register with two bits for Alice to the above circuit"
   ]
  },
  {
   "cell_type": "code",
   "execution_count": 20,
   "id": "e2fbd7ff",
   "metadata": {},
   "outputs": [],
   "source": [
    "# ...\n",
    "# fill in you code here\n",
    "# ..."
   ]
  },
  {
   "cell_type": "code",
   "execution_count": 21,
   "id": "0f23f335",
   "metadata": {},
   "outputs": [],
   "source": [
    "# run this cell to execute the solution\n",
    "%run -i solutions/exercise06.py"
   ]
  },
  {
   "cell_type": "code",
   "execution_count": 40,
   "id": "7e917f6f",
   "metadata": {},
   "outputs": [],
   "source": [
    "display(circuit.draw(output='mpl'))"
   ]
  },
  {
   "cell_type": "markdown",
   "id": "f637edab",
   "metadata": {},
   "source": [
    "### Exercise 07\n",
    "\n",
    "Initialize a quantum state to be teleported in a state with 80% probability for $\\ket{0}$ and 20% probability for $\\ket{1}$, on the first of Alice's qubits."
   ]
  },
  {
   "cell_type": "code",
   "execution_count": 23,
   "id": "b8d4c4fa",
   "metadata": {},
   "outputs": [],
   "source": [
    "# ...\n",
    "# fill in you code here\n",
    "# ...\n",
    "# Hint: use the following function\n",
    "# circuit.initialize([amp0, amp1], 0)\n",
    "# where amp0, amp1 are the amplitutes for the 0 and 1 qubit state respectively"
   ]
  },
  {
   "cell_type": "code",
   "execution_count": 24,
   "id": "e0c13132",
   "metadata": {},
   "outputs": [],
   "source": [
    "# run this cell to execute the solution\n",
    "%run -i solutions/exercise07.py"
   ]
  },
  {
   "cell_type": "code",
   "execution_count": 41,
   "id": "54879afc",
   "metadata": {},
   "outputs": [],
   "source": [
    "display(circuit.draw(output='mpl'))"
   ]
  },
  {
   "cell_type": "markdown",
   "id": "caca2d5c",
   "metadata": {},
   "source": [
    "## Exercise 08\n",
    "\n",
    "As a first step, Alice an Bob share an entangled state. The so called Bell-State\n",
    "$$\n",
    "\\frac{\\sqrt{2}}{2} |00\\rangle+\\frac{\\sqrt{2}}{2} |11\\rangle\n",
    "$$\n",
    "between Alice's second qubit and Bob's qubit. Add this to the circuit."
   ]
  },
  {
   "cell_type": "code",
   "execution_count": 26,
   "id": "0de620e3",
   "metadata": {},
   "outputs": [],
   "source": [
    "# ...\n",
    "# fill in you code here\n",
    "# ...\n",
    "# Hint: Confer exercise 02"
   ]
  },
  {
   "cell_type": "code",
   "execution_count": 27,
   "id": "3ed36148",
   "metadata": {},
   "outputs": [],
   "source": [
    "# run this cell to execute the solution\n",
    "%run -i solutions/exercise08.py"
   ]
  },
  {
   "cell_type": "code",
   "execution_count": 44,
   "id": "abac0eb1",
   "metadata": {},
   "outputs": [],
   "source": [
    "display(circuit.draw(output='mpl'))"
   ]
  },
  {
   "cell_type": "markdown",
   "id": "95718d2c",
   "metadata": {},
   "source": [
    "## Exercise 09\n",
    "\n",
    "Next, Alice performes a Bell-State measurement on both of her qubits, i.e. she projects her two qubit state to one of the states\n",
    "$$\n",
    "\\frac{\\sqrt{2}}{2} |00\\rangle \\pm \\frac{\\sqrt{2}}{2} |11\\rangle\n",
    "$$.\n",
    "\n",
    "This can be implemented by a \n",
    "\n",
    " - CNOT between first and second qubits\n",
    " - followed by a Hadamard on the first qubit\n",
    " - Measuring both of Alice's qubits and storing the results in both of Alice's bits\n",
    " \n",
    "Add the above steps to the circuit"
   ]
  },
  {
   "cell_type": "code",
   "execution_count": 29,
   "id": "aef2e9dc",
   "metadata": {},
   "outputs": [],
   "source": [
    "# ...\n",
    "# fill in you code here\n",
    "# ..."
   ]
  },
  {
   "cell_type": "code",
   "execution_count": 30,
   "id": "0e54a57f",
   "metadata": {},
   "outputs": [],
   "source": [
    "# run this cell to execute the solution\n",
    "%run -i solutions/exercise09.py"
   ]
  },
  {
   "cell_type": "code",
   "execution_count": 45,
   "id": "ecfb7fde",
   "metadata": {},
   "outputs": [],
   "source": [
    "display(circuit.draw(output='mpl'))"
   ]
  },
  {
   "cell_type": "markdown",
   "id": "31f56ca7",
   "metadata": {},
   "source": [
    "### Exercise 10\n",
    "\n",
    "Depending on the measurement outcome of Alice, Bob needs to apply certain transformation to his qubit in order to transfer it to the original state.\n",
    "\n",
    "If the measurement outcome of the Alice's second qubit is 1, Bob needs to apply a Pauli X gate.  If the measurement outcome of the Alice's first qubit is 1, Bob needs to apply a Pauli Z gate, afterwards.\n",
    "\n",
    "In order to quantum gates condition on the value of classical bit, use\n",
    "`.c_if(<classical-bit>, <value-of-classical-bit'` on the quantum gate. For example\n",
    "```\n",
    "circuit.x(bobs_q).c_if(bob-c, 1)\n",
    "```"
   ]
  },
  {
   "cell_type": "code",
   "execution_count": 32,
   "id": "8dff05fb",
   "metadata": {},
   "outputs": [],
   "source": [
    "# ...\n",
    "# fill in you code here\n",
    "# ..."
   ]
  },
  {
   "cell_type": "code",
   "execution_count": 33,
   "id": "21ff7557",
   "metadata": {},
   "outputs": [],
   "source": [
    "# run this cell to execute the solution\n",
    "%run -i solutions/exercise10.py"
   ]
  },
  {
   "cell_type": "code",
   "execution_count": 46,
   "id": "e718cc57",
   "metadata": {},
   "outputs": [],
   "source": [
    "display(circuit.draw(output='mpl', cregbundle=False))"
   ]
  },
  {
   "cell_type": "markdown",
   "id": "828dfbc0",
   "metadata": {},
   "source": [
    "### Exercise 11\n",
    "\n",
    "Finally measure Bob's qubit, simulate the circuit with 10000 shots and plot a histogram of the result. Can you confirm Alice's state?"
   ]
  },
  {
   "cell_type": "code",
   "execution_count": 35,
   "id": "8e7015e9",
   "metadata": {},
   "outputs": [],
   "source": [
    "# ...\n",
    "# fill in you code here\n",
    "# ..."
   ]
  },
  {
   "cell_type": "code",
   "execution_count": 47,
   "id": "d9c293f0",
   "metadata": {},
   "outputs": [],
   "source": [
    "# run this cell to execute the solution\n",
    "%run -i solutions/exercise11.py"
   ]
  }
 ],
 "metadata": {
  "celltoolbar": "Slideshow",
  "kernelspec": {
   "display_name": "Python 3 (ipykernel)",
   "language": "python",
   "name": "python3"
  },
  "language_info": {
   "codemirror_mode": {
    "name": "ipython",
    "version": 3
   },
   "file_extension": ".py",
   "mimetype": "text/x-python",
   "name": "python",
   "nbconvert_exporter": "python",
   "pygments_lexer": "ipython3",
   "version": "3.10.11"
  }
 },
 "nbformat": 4,
 "nbformat_minor": 5
}
